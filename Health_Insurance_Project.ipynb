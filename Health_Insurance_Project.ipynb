{
 "cells": [
  {
   "cell_type": "markdown",
   "id": "9ae5e209",
   "metadata": {},
   "source": [
    "# HEALTH INSURANCE PREDICTION"
   ]
  },
  {
   "cell_type": "code",
   "execution_count": 6,
   "id": "2026e354",
   "metadata": {},
   "outputs": [],
   "source": [
    "#Libraries Used :\n",
    "    #PANDAS, NUMPY, MATPLOTLIB, SEABORN, SKLEARN ,PICKLE, STREAMLIT"
   ]
  },
  {
   "cell_type": "code",
   "execution_count": 1,
   "id": "5d5ea4d6",
   "metadata": {},
   "outputs": [],
   "source": [
    "import pandas as pd\n",
    "import numpy as np\n",
    "import matplotlib.pyplot as plt\n",
    "import seaborn as sns\n",
    "from sklearn import preprocessing\n",
    "from sklearn.preprocessing import LabelEncoder\n",
    "from sklearn.model_selection import train_test_split\n",
    "from sklearn.linear_model import LinearRegression\n",
    "from sklearn.ensemble import RandomForestRegressor\n",
    "from sklearn import metrics\n",
    "import pickle\n",
    "import streamlit as st"
   ]
  },
  {
   "cell_type": "code",
   "execution_count": 5,
   "id": "b42a27a3",
   "metadata": {},
   "outputs": [],
   "source": [
    "#IMPORTING LIBRARIES"
   ]
  },
  {
   "cell_type": "code",
   "execution_count": 2,
   "id": "c9d0b73a",
   "metadata": {},
   "outputs": [],
   "source": [
    "import pandas as pd\n",
    "import numpy as np\n",
    "import matplotlib.pyplot as plt\n",
    "import seaborn as sns"
   ]
  },
  {
   "cell_type": "code",
   "execution_count": 3,
   "id": "874a5fe1",
   "metadata": {},
   "outputs": [],
   "source": [
    "#  READING CSV FILE :\n",
    "insurance = pd.read_csv(\"C://Users//Lenovo//Desktop//Health insurance//insurance.csv\")"
   ]
  },
  {
   "cell_type": "code",
   "execution_count": 8,
   "id": "47e9cc63",
   "metadata": {},
   "outputs": [
    {
     "data": {
      "text/html": [
       "<div>\n",
       "<style scoped>\n",
       "    .dataframe tbody tr th:only-of-type {\n",
       "        vertical-align: middle;\n",
       "    }\n",
       "\n",
       "    .dataframe tbody tr th {\n",
       "        vertical-align: top;\n",
       "    }\n",
       "\n",
       "    .dataframe thead th {\n",
       "        text-align: right;\n",
       "    }\n",
       "</style>\n",
       "<table border=\"1\" class=\"dataframe\">\n",
       "  <thead>\n",
       "    <tr style=\"text-align: right;\">\n",
       "      <th></th>\n",
       "      <th>age</th>\n",
       "      <th>sex</th>\n",
       "      <th>bmi</th>\n",
       "      <th>children</th>\n",
       "      <th>smoker</th>\n",
       "      <th>region</th>\n",
       "      <th>charges</th>\n",
       "    </tr>\n",
       "  </thead>\n",
       "  <tbody>\n",
       "    <tr>\n",
       "      <th>0</th>\n",
       "      <td>19</td>\n",
       "      <td>female</td>\n",
       "      <td>27.900</td>\n",
       "      <td>0</td>\n",
       "      <td>yes</td>\n",
       "      <td>southwest</td>\n",
       "      <td>16884.92400</td>\n",
       "    </tr>\n",
       "    <tr>\n",
       "      <th>1</th>\n",
       "      <td>18</td>\n",
       "      <td>male</td>\n",
       "      <td>33.770</td>\n",
       "      <td>1</td>\n",
       "      <td>no</td>\n",
       "      <td>southeast</td>\n",
       "      <td>1725.55230</td>\n",
       "    </tr>\n",
       "    <tr>\n",
       "      <th>2</th>\n",
       "      <td>28</td>\n",
       "      <td>male</td>\n",
       "      <td>33.000</td>\n",
       "      <td>3</td>\n",
       "      <td>no</td>\n",
       "      <td>southeast</td>\n",
       "      <td>4449.46200</td>\n",
       "    </tr>\n",
       "    <tr>\n",
       "      <th>3</th>\n",
       "      <td>33</td>\n",
       "      <td>male</td>\n",
       "      <td>22.705</td>\n",
       "      <td>0</td>\n",
       "      <td>no</td>\n",
       "      <td>northwest</td>\n",
       "      <td>21984.47061</td>\n",
       "    </tr>\n",
       "    <tr>\n",
       "      <th>4</th>\n",
       "      <td>32</td>\n",
       "      <td>male</td>\n",
       "      <td>28.880</td>\n",
       "      <td>0</td>\n",
       "      <td>no</td>\n",
       "      <td>northwest</td>\n",
       "      <td>3866.85520</td>\n",
       "    </tr>\n",
       "    <tr>\n",
       "      <th>...</th>\n",
       "      <td>...</td>\n",
       "      <td>...</td>\n",
       "      <td>...</td>\n",
       "      <td>...</td>\n",
       "      <td>...</td>\n",
       "      <td>...</td>\n",
       "      <td>...</td>\n",
       "    </tr>\n",
       "    <tr>\n",
       "      <th>1333</th>\n",
       "      <td>50</td>\n",
       "      <td>male</td>\n",
       "      <td>30.970</td>\n",
       "      <td>3</td>\n",
       "      <td>no</td>\n",
       "      <td>northwest</td>\n",
       "      <td>10600.54830</td>\n",
       "    </tr>\n",
       "    <tr>\n",
       "      <th>1334</th>\n",
       "      <td>18</td>\n",
       "      <td>female</td>\n",
       "      <td>31.920</td>\n",
       "      <td>0</td>\n",
       "      <td>no</td>\n",
       "      <td>northeast</td>\n",
       "      <td>2205.98080</td>\n",
       "    </tr>\n",
       "    <tr>\n",
       "      <th>1335</th>\n",
       "      <td>18</td>\n",
       "      <td>female</td>\n",
       "      <td>36.850</td>\n",
       "      <td>0</td>\n",
       "      <td>no</td>\n",
       "      <td>southeast</td>\n",
       "      <td>1629.83350</td>\n",
       "    </tr>\n",
       "    <tr>\n",
       "      <th>1336</th>\n",
       "      <td>21</td>\n",
       "      <td>female</td>\n",
       "      <td>25.800</td>\n",
       "      <td>0</td>\n",
       "      <td>no</td>\n",
       "      <td>southwest</td>\n",
       "      <td>2007.94500</td>\n",
       "    </tr>\n",
       "    <tr>\n",
       "      <th>1337</th>\n",
       "      <td>61</td>\n",
       "      <td>female</td>\n",
       "      <td>29.070</td>\n",
       "      <td>0</td>\n",
       "      <td>yes</td>\n",
       "      <td>northwest</td>\n",
       "      <td>29141.36030</td>\n",
       "    </tr>\n",
       "  </tbody>\n",
       "</table>\n",
       "<p>1338 rows × 7 columns</p>\n",
       "</div>"
      ],
      "text/plain": [
       "      age     sex     bmi  children smoker     region      charges\n",
       "0      19  female  27.900         0    yes  southwest  16884.92400\n",
       "1      18    male  33.770         1     no  southeast   1725.55230\n",
       "2      28    male  33.000         3     no  southeast   4449.46200\n",
       "3      33    male  22.705         0     no  northwest  21984.47061\n",
       "4      32    male  28.880         0     no  northwest   3866.85520\n",
       "...   ...     ...     ...       ...    ...        ...          ...\n",
       "1333   50    male  30.970         3     no  northwest  10600.54830\n",
       "1334   18  female  31.920         0     no  northeast   2205.98080\n",
       "1335   18  female  36.850         0     no  southeast   1629.83350\n",
       "1336   21  female  25.800         0     no  southwest   2007.94500\n",
       "1337   61  female  29.070         0    yes  northwest  29141.36030\n",
       "\n",
       "[1338 rows x 7 columns]"
      ]
     },
     "execution_count": 8,
     "metadata": {},
     "output_type": "execute_result"
    }
   ],
   "source": [
    "insurance"
   ]
  },
  {
   "cell_type": "markdown",
   "id": "29bf3c04",
   "metadata": {},
   "source": [
    "# DATA UNDERSTANDING"
   ]
  },
  {
   "cell_type": "code",
   "execution_count": 4,
   "id": "0a312191",
   "metadata": {},
   "outputs": [
    {
     "data": {
      "text/html": [
       "<div>\n",
       "<style scoped>\n",
       "    .dataframe tbody tr th:only-of-type {\n",
       "        vertical-align: middle;\n",
       "    }\n",
       "\n",
       "    .dataframe tbody tr th {\n",
       "        vertical-align: top;\n",
       "    }\n",
       "\n",
       "    .dataframe thead th {\n",
       "        text-align: right;\n",
       "    }\n",
       "</style>\n",
       "<table border=\"1\" class=\"dataframe\">\n",
       "  <thead>\n",
       "    <tr style=\"text-align: right;\">\n",
       "      <th></th>\n",
       "      <th>age</th>\n",
       "      <th>sex</th>\n",
       "      <th>bmi</th>\n",
       "      <th>children</th>\n",
       "      <th>smoker</th>\n",
       "      <th>region</th>\n",
       "      <th>charges</th>\n",
       "    </tr>\n",
       "  </thead>\n",
       "  <tbody>\n",
       "    <tr>\n",
       "      <th>1328</th>\n",
       "      <td>23</td>\n",
       "      <td>female</td>\n",
       "      <td>24.225</td>\n",
       "      <td>2</td>\n",
       "      <td>no</td>\n",
       "      <td>northeast</td>\n",
       "      <td>22395.74424</td>\n",
       "    </tr>\n",
       "    <tr>\n",
       "      <th>1329</th>\n",
       "      <td>52</td>\n",
       "      <td>male</td>\n",
       "      <td>38.600</td>\n",
       "      <td>2</td>\n",
       "      <td>no</td>\n",
       "      <td>southwest</td>\n",
       "      <td>10325.20600</td>\n",
       "    </tr>\n",
       "    <tr>\n",
       "      <th>1330</th>\n",
       "      <td>57</td>\n",
       "      <td>female</td>\n",
       "      <td>25.740</td>\n",
       "      <td>2</td>\n",
       "      <td>no</td>\n",
       "      <td>southeast</td>\n",
       "      <td>12629.16560</td>\n",
       "    </tr>\n",
       "    <tr>\n",
       "      <th>1331</th>\n",
       "      <td>23</td>\n",
       "      <td>female</td>\n",
       "      <td>33.400</td>\n",
       "      <td>0</td>\n",
       "      <td>no</td>\n",
       "      <td>southwest</td>\n",
       "      <td>10795.93733</td>\n",
       "    </tr>\n",
       "    <tr>\n",
       "      <th>1332</th>\n",
       "      <td>52</td>\n",
       "      <td>female</td>\n",
       "      <td>44.700</td>\n",
       "      <td>3</td>\n",
       "      <td>no</td>\n",
       "      <td>southwest</td>\n",
       "      <td>11411.68500</td>\n",
       "    </tr>\n",
       "    <tr>\n",
       "      <th>1333</th>\n",
       "      <td>50</td>\n",
       "      <td>male</td>\n",
       "      <td>30.970</td>\n",
       "      <td>3</td>\n",
       "      <td>no</td>\n",
       "      <td>northwest</td>\n",
       "      <td>10600.54830</td>\n",
       "    </tr>\n",
       "    <tr>\n",
       "      <th>1334</th>\n",
       "      <td>18</td>\n",
       "      <td>female</td>\n",
       "      <td>31.920</td>\n",
       "      <td>0</td>\n",
       "      <td>no</td>\n",
       "      <td>northeast</td>\n",
       "      <td>2205.98080</td>\n",
       "    </tr>\n",
       "    <tr>\n",
       "      <th>1335</th>\n",
       "      <td>18</td>\n",
       "      <td>female</td>\n",
       "      <td>36.850</td>\n",
       "      <td>0</td>\n",
       "      <td>no</td>\n",
       "      <td>southeast</td>\n",
       "      <td>1629.83350</td>\n",
       "    </tr>\n",
       "    <tr>\n",
       "      <th>1336</th>\n",
       "      <td>21</td>\n",
       "      <td>female</td>\n",
       "      <td>25.800</td>\n",
       "      <td>0</td>\n",
       "      <td>no</td>\n",
       "      <td>southwest</td>\n",
       "      <td>2007.94500</td>\n",
       "    </tr>\n",
       "    <tr>\n",
       "      <th>1337</th>\n",
       "      <td>61</td>\n",
       "      <td>female</td>\n",
       "      <td>29.070</td>\n",
       "      <td>0</td>\n",
       "      <td>yes</td>\n",
       "      <td>northwest</td>\n",
       "      <td>29141.36030</td>\n",
       "    </tr>\n",
       "  </tbody>\n",
       "</table>\n",
       "</div>"
      ],
      "text/plain": [
       "      age     sex     bmi  children smoker     region      charges\n",
       "1328   23  female  24.225         2     no  northeast  22395.74424\n",
       "1329   52    male  38.600         2     no  southwest  10325.20600\n",
       "1330   57  female  25.740         2     no  southeast  12629.16560\n",
       "1331   23  female  33.400         0     no  southwest  10795.93733\n",
       "1332   52  female  44.700         3     no  southwest  11411.68500\n",
       "1333   50    male  30.970         3     no  northwest  10600.54830\n",
       "1334   18  female  31.920         0     no  northeast   2205.98080\n",
       "1335   18  female  36.850         0     no  southeast   1629.83350\n",
       "1336   21  female  25.800         0     no  southwest   2007.94500\n",
       "1337   61  female  29.070         0    yes  northwest  29141.36030"
      ]
     },
     "execution_count": 4,
     "metadata": {},
     "output_type": "execute_result"
    }
   ],
   "source": [
    "# GETTING FIRST 10 RECORDS :\n",
    "insurance.tail(10)"
   ]
  },
  {
   "cell_type": "code",
   "execution_count": 5,
   "id": "8bad0a92",
   "metadata": {},
   "outputs": [
    {
     "name": "stdout",
     "output_type": "stream",
     "text": [
      "<class 'pandas.core.frame.DataFrame'>\n",
      "RangeIndex: 1338 entries, 0 to 1337\n",
      "Data columns (total 7 columns):\n",
      " #   Column    Non-Null Count  Dtype  \n",
      "---  ------    --------------  -----  \n",
      " 0   age       1338 non-null   int64  \n",
      " 1   sex       1338 non-null   object \n",
      " 2   bmi       1338 non-null   float64\n",
      " 3   children  1338 non-null   int64  \n",
      " 4   smoker    1338 non-null   object \n",
      " 5   region    1338 non-null   object \n",
      " 6   charges   1338 non-null   float64\n",
      "dtypes: float64(2), int64(2), object(3)\n",
      "memory usage: 73.3+ KB\n"
     ]
    }
   ],
   "source": [
    "# RETRIVING SUMMARY OF DATA :\n",
    "insurance.info()"
   ]
  },
  {
   "cell_type": "code",
   "execution_count": 6,
   "id": "be7ea731",
   "metadata": {},
   "outputs": [
    {
     "name": "stdout",
     "output_type": "stream",
     "text": [
      "----------------------------- \n",
      "    TOTAL NUMBER OF ROWS     \n",
      "----------------------------- \n",
      "           1338\n"
     ]
    }
   ],
   "source": [
    "# COUNT OF NUMBER OF ROWS :\n",
    "print('----------------------------- ')\n",
    "print(\"    TOTAL NUMBER OF ROWS     \" )\n",
    "print('----------------------------- ')\n",
    "print(\"          \",insurance.shape[0])"
   ]
  },
  {
   "cell_type": "code",
   "execution_count": 7,
   "id": "fc2595d6",
   "metadata": {},
   "outputs": [
    {
     "name": "stdout",
     "output_type": "stream",
     "text": [
      "----------------------------- \n",
      "   TOTAL NUMBER OF COLUMNS     \n",
      "----------------------------- \n",
      "              7\n"
     ]
    }
   ],
   "source": [
    "# COUNT OF NUMBER OF COLUMNS :\n",
    "print('----------------------------- ')\n",
    "print(\"   TOTAL NUMBER OF COLUMNS     \" )\n",
    "print('----------------------------- ')\n",
    "print(\"             \",insurance.shape[1])"
   ]
  },
  {
   "cell_type": "code",
   "execution_count": 8,
   "id": "fb10a22a",
   "metadata": {},
   "outputs": [
    {
     "name": "stdout",
     "output_type": "stream",
     "text": [
      "-------------------------------------------------------- \n",
      "                 STATISTICAL SUMMARY                     \n",
      "-------------------------------------------------------- \n",
      "               age          bmi     children       charges\n",
      "count  1338.000000  1338.000000  1338.000000   1338.000000\n",
      "mean     39.207025    30.663397     1.094918  13270.422265\n",
      "std      14.049960     6.098187     1.205493  12110.011237\n",
      "min      18.000000    15.960000     0.000000   1121.873900\n",
      "25%      27.000000    26.296250     0.000000   4740.287150\n",
      "50%      39.000000    30.400000     1.000000   9382.033000\n",
      "75%      51.000000    34.693750     2.000000  16639.912515\n",
      "max      64.000000    53.130000     5.000000  63770.428010\n"
     ]
    }
   ],
   "source": [
    "# RETRIVING STATISTICAL SUMMARY OF DATA :\n",
    "print('-------------------------------------------------------- ')\n",
    "print(\"                 STATISTICAL SUMMARY                     \" )\n",
    "print('-------------------------------------------------------- ')\n",
    "print(insurance.describe())"
   ]
  },
  {
   "cell_type": "markdown",
   "id": "83eb7338",
   "metadata": {},
   "source": [
    "# DATA PROCESSING/ EDA"
   ]
  },
  {
   "cell_type": "code",
   "execution_count": 9,
   "id": "cd9ffc2e",
   "metadata": {},
   "outputs": [
    {
     "name": "stderr",
     "output_type": "stream",
     "text": [
      "2022-04-29 17:42:17.537 INFO    numexpr.utils: NumExpr defaulting to 2 threads.\n"
     ]
    },
    {
     "name": "stdout",
     "output_type": "stream",
     "text": [
      " ------------------------\n",
      "       ZERO VALUES       \n",
      " ------------------------\n"
     ]
    },
    {
     "data": {
      "text/plain": [
       "age           0\n",
       "sex           0\n",
       "bmi           0\n",
       "children    574\n",
       "smoker        0\n",
       "region        0\n",
       "charges       0\n",
       "dtype: int64"
      ]
     },
     "execution_count": 9,
     "metadata": {},
     "output_type": "execute_result"
    }
   ],
   "source": [
    "# CHECKING THE ZERO VALUES :\n",
    "print(' ------------------------')\n",
    "print(\"       ZERO VALUES       \")\n",
    "print(' ------------------------')\n",
    "(insurance==0).sum()"
   ]
  },
  {
   "cell_type": "code",
   "execution_count": 10,
   "id": "62b9ad48",
   "metadata": {},
   "outputs": [
    {
     "ename": "SyntaxError",
     "evalue": "invalid syntax (<ipython-input-10-edf1e05e5dc2>, line 1)",
     "output_type": "error",
     "traceback": [
      "\u001b[1;36m  File \u001b[1;32m\"<ipython-input-10-edf1e05e5dc2>\"\u001b[1;36m, line \u001b[1;32m1\u001b[0m\n\u001b[1;33m    Here the children is showing zero values as 574 .\u001b[0m\n\u001b[1;37m         ^\u001b[0m\n\u001b[1;31mSyntaxError\u001b[0m\u001b[1;31m:\u001b[0m invalid syntax\n"
     ]
    }
   ],
   "source": [
    "Here the children is showing zero values as 574 .\n",
    "\n",
    "But the 0 values in childrens column represents the Beneficiary is having no Childrens.\n",
    "\n",
    "Therefore, it is not a zero or missing value. So we canot adjust/fill or manipulate the value."
   ]
  },
  {
   "cell_type": "code",
   "execution_count": 11,
   "id": "d5cfd319",
   "metadata": {},
   "outputs": [
    {
     "name": "stdout",
     "output_type": "stream",
     "text": [
      " ------------------------\n",
      "       MISSING VALUES       \n",
      " ------------------------\n"
     ]
    },
    {
     "data": {
      "text/plain": [
       "age         0\n",
       "sex         0\n",
       "bmi         0\n",
       "children    0\n",
       "smoker      0\n",
       "region      0\n",
       "charges     0\n",
       "dtype: int64"
      ]
     },
     "execution_count": 11,
     "metadata": {},
     "output_type": "execute_result"
    }
   ],
   "source": [
    "# CHECKING THE MISSING VALUES :\n",
    "print(' ------------------------')\n",
    "print(\"       MISSING VALUES       \")\n",
    "print(' ------------------------')\n",
    "insurance.isnull().sum()"
   ]
  },
  {
   "cell_type": "code",
   "execution_count": 12,
   "id": "0e5ca00d",
   "metadata": {},
   "outputs": [
    {
     "ename": "SyntaxError",
     "evalue": "invalid syntax (<ipython-input-12-19e4444a2cb8>, line 1)",
     "output_type": "error",
     "traceback": [
      "\u001b[1;36m  File \u001b[1;32m\"<ipython-input-12-19e4444a2cb8>\"\u001b[1;36m, line \u001b[1;32m1\u001b[0m\n\u001b[1;33m    The data does not contains any missing or NaN values present.\u001b[0m\n\u001b[1;37m        ^\u001b[0m\n\u001b[1;31mSyntaxError\u001b[0m\u001b[1;31m:\u001b[0m invalid syntax\n"
     ]
    }
   ],
   "source": [
    "The data does not contains any missing or NaN values present.\n",
    "Therefore, the is no need of adjusting/fillingg or manipulating the data."
   ]
  },
  {
   "cell_type": "markdown",
   "id": "7743c164",
   "metadata": {},
   "source": [
    "# VISUAL DATA ANALYSIS"
   ]
  },
  {
   "cell_type": "code",
   "execution_count": 13,
   "id": "0073c5f0",
   "metadata": {},
   "outputs": [
    {
     "data": {
      "text/plain": [
       "<Figure size 864x576 with 0 Axes>"
      ]
     },
     "metadata": {},
     "output_type": "display_data"
    },
    {
     "data": {
      "image/png": "[encoded data removed]",
      "text/plain": [
       "<Figure size 360x360 with 1 Axes>"
      ]
     },
     "metadata": {
      "needs_background": "light"
     },
     "output_type": "display_data"
    }
   ],
   "source": [
    "# PLOTTING A SCATTER PLOT :\n",
    "\n",
    "plt.figure(figsize=(12,8))\n",
    "sns.lmplot(x='age', y='charges', data=insurance, fit_reg=False, hue='smoker', palette='Set2', legend=False)\n",
    "plt.xlabel('AGE OF PERSON')\n",
    "plt.ylabel('INSURANCE CHARGES')\n",
    "plt.title('---------------------------------------------------------------------\\n Comparing AGE and INSURANCE CHARGES \\n considering Smoker/Non-Smoker \\n ---------------------------------------------------------------------')\n",
    "plt.legend(bbox_to_anchor=(1.02, 0.15), loc='center left' , title ='Smokers')\n",
    "plt.show()"
   ]
  },
  {
   "cell_type": "code",
   "execution_count": 14,
   "id": "c7854e69",
   "metadata": {},
   "outputs": [
    {
     "data": {
      "image/png": "[encoded data removed]",
      "text/plain": [
       "<Figure size 720x576 with 1 Axes>"
      ]
     },
     "metadata": {
      "needs_background": "light"
     },
     "output_type": "display_data"
    }
   ],
   "source": [
    "# PlOTTING A BAR PLOT :\n",
    "\n",
    "plt.figure(figsize=(10,8))\n",
    "sns.countplot(x='sex', data=insurance, hue='region',palette='Set2')\n",
    "plt.xlabel('Gender')\n",
    "plt.ylabel('COUNT')\n",
    "plt.title(\" ------------------------------------------------ \\n Count of Person based on \\n  GENDER and REGION \\n ------------------------------------------------ \")\n",
    "plt.legend(bbox_to_anchor=(1.02, 0.15), loc='center left' , title ='Region')\n",
    "plt.show()"
   ]
  },
  {
   "cell_type": "code",
   "execution_count": 15,
   "id": "b1101ae2",
   "metadata": {},
   "outputs": [
    {
     "data": {
      "text/plain": [
       "<matplotlib.legend.Legend at 0x1ec34520370>"
      ]
     },
     "execution_count": 15,
     "metadata": {},
     "output_type": "execute_result"
    },
    {
     "data": {
      "image/png": "[encoded data removed]",
      "text/plain": [
       "<Figure size 936x576 with 1 Axes>"
      ]
     },
     "metadata": {},
     "output_type": "display_data"
    }
   ],
   "source": [
    "# PLOTTING A PIE CHART :\n",
    "\n",
    "plt.figure(figsize=(13,8))\n",
    "size=insurance['children'].value_counts()\n",
    "labels=np.unique(insurance.children)\n",
    "colors=['blue','pink','skyblue','yellow','red','lightgray']\n",
    "explode=(0.05,0,0,0,0,0.01)\n",
    "plt.pie(size, labels = labels,autopct='%1.1f%%', colors=colors , explode=explode)\n",
    "plt.title(\"------------------------------------ \\n COUNT OF CHILDREN \\n ------------------------------------\")\n",
    "plt.legend(bbox_to_anchor=(1.02, 0.15), loc='center left' , title ='No.of Children')"
   ]
  },
  {
   "cell_type": "code",
   "execution_count": 16,
   "id": "f3241527",
   "metadata": {},
   "outputs": [
    {
     "data": {
      "text/plain": [
       "<matplotlib.legend.Legend at 0x1ec345638e0>"
      ]
     },
     "execution_count": 16,
     "metadata": {},
     "output_type": "execute_result"
    },
    {
     "data": {
      "image/png": "[encoded data removed]",
      "text/plain": [
       "<Figure size 864x432 with 1 Axes>"
      ]
     },
     "metadata": {
      "needs_background": "light"
     },
     "output_type": "display_data"
    }
   ],
   "source": [
    "# PLOTTING BOX PLOT :\n",
    "\n",
    "plt.figure(figsize=(12,6))\n",
    "sns.boxplot(x=\"sex\",y=insurance[\"bmi\"], hue= 'smoker', data=insurance ,palette='Set3' )\n",
    "plt.title(\"------------------------------------------------------------------------------ \\n Comparing BMI with GENDER considering SMOKERS \\n ----------------------------------------------------------------------------------\")\n",
    "plt.xlabel(\"GENDER\")\n",
    "plt.ylabel(\"BODY MASS INDEX\")\n",
    "plt.legend(bbox_to_anchor=(1.02, 0.15), loc='center left' , title ='Smoker')"
   ]
  },
  {
   "cell_type": "code",
   "execution_count": 17,
   "id": "cd9f4dea",
   "metadata": {},
   "outputs": [
    {
     "ename": "SyntaxError",
     "evalue": "invalid syntax (<ipython-input-17-cbf5c1141cba>, line 1)",
     "output_type": "error",
     "traceback": [
      "\u001b[1;36m  File \u001b[1;32m\"<ipython-input-17-cbf5c1141cba>\"\u001b[1;36m, line \u001b[1;32m1\u001b[0m\n\u001b[1;33m    GROUPING OF CHILDRENS INTO FAMILY SIZE SO AS TO PLOT THE CHART ACCORDINGLY\u001b[0m\n\u001b[1;37m             ^\u001b[0m\n\u001b[1;31mSyntaxError\u001b[0m\u001b[1;31m:\u001b[0m invalid syntax\n"
     ]
    }
   ],
   "source": [
    "GROUPING OF CHILDRENS INTO FAMILY SIZE SO AS TO PLOT THE CHART ACCORDINGLY"
   ]
  },
  {
   "cell_type": "code",
   "execution_count": null,
   "id": "2da19255",
   "metadata": {},
   "outputs": [],
   "source": [
    "# GROUPING AND PLOTTING :\n",
    "\n",
    "plt.figure(figsize=(13,6))\n",
    "bins=[1,2,3,4]\n",
    "labels = ['Small_Family','Medium_Family','Large_Family']\n",
    "insurance['children_family'] = pd.cut(insurance['children'],bins=bins, labels=labels)\n",
    "sns.boxplot(x ='children_family',y='charges', data = insurance , palette ='Set2')\n",
    "plt.title(\" --------------------------------------------------------------------------- \\n Comparing FAMILY TYPE based on INSURANCE CHARGES  \\n ---------------------------------------------------------------------------\")\n",
    "plt.xlabel(\"FAMILY SIZE DEPENDED ON CHILDREN\")\n",
    "plt.ylabel(\" INSURANCE CHARGES\")"
   ]
  },
  {
   "cell_type": "code",
   "execution_count": null,
   "id": "b7048143",
   "metadata": {},
   "outputs": [],
   "source": [
    "# PLOTTTING A HEAT MAP :\n",
    "\n",
    "plt.figure(figsize=(7,5))\n",
    "\n",
    "cmap=\"tab20\"\n",
    "center=0\n",
    "annot= True\n",
    "\n",
    "sns.heatmap(insurance.corr(),cmap=cmap,annot=annot)\n",
    "plt.title(\"------------------------------------------------------\\n Correlation of Numerical Variables \\n ------------------------------------------------------\")\n",
    "plt.show()"
   ]
  },
  {
   "cell_type": "code",
   "execution_count": null,
   "id": "c231fdd0",
   "metadata": {},
   "outputs": [],
   "source": [
    "# GETTING COLUMN NAME :\n",
    "\n",
    "print('---------------------------------------')\n",
    "print('           UNIQUE COLUMN NAMES         ')\n",
    "print('---------------------------------------')\n",
    "print(insurance.columns)"
   ]
  },
  {
   "cell_type": "code",
   "execution_count": 18,
   "id": "03b35abd",
   "metadata": {},
   "outputs": [
    {
     "name": "stdout",
     "output_type": "stream",
     "text": [
      "---------------------------------------\n",
      "           ADJUSTED COLUMN        \n",
      "---------------------------------------\n"
     ]
    },
    {
     "ename": "KeyError",
     "evalue": "\"['children_family'] not found in axis\"",
     "output_type": "error",
     "traceback": [
      "\u001b[1;31m---------------------------------------------------------------------------\u001b[0m",
      "\u001b[1;31mKeyError\u001b[0m                                  Traceback (most recent call last)",
      "\u001b[1;32m<ipython-input-18-98f209d3008b>\u001b[0m in \u001b[0;36m<module>\u001b[1;34m\u001b[0m\n\u001b[0;32m      4\u001b[0m \u001b[0mprint\u001b[0m\u001b[1;33m(\u001b[0m\u001b[1;34m'           ADJUSTED COLUMN        '\u001b[0m\u001b[1;33m)\u001b[0m\u001b[1;33m\u001b[0m\u001b[1;33m\u001b[0m\u001b[0m\n\u001b[0;32m      5\u001b[0m \u001b[0mprint\u001b[0m\u001b[1;33m(\u001b[0m\u001b[1;34m'---------------------------------------'\u001b[0m\u001b[1;33m)\u001b[0m\u001b[1;33m\u001b[0m\u001b[1;33m\u001b[0m\u001b[0m\n\u001b[1;32m----> 6\u001b[1;33m \u001b[0minsurance\u001b[0m\u001b[1;33m.\u001b[0m\u001b[0mdrop\u001b[0m\u001b[1;33m(\u001b[0m\u001b[1;34m'children_family'\u001b[0m\u001b[1;33m,\u001b[0m \u001b[0maxis\u001b[0m\u001b[1;33m=\u001b[0m\u001b[1;36m1\u001b[0m\u001b[1;33m,\u001b[0m \u001b[0minplace\u001b[0m\u001b[1;33m=\u001b[0m\u001b[1;32mTrue\u001b[0m\u001b[1;33m)\u001b[0m\u001b[1;33m\u001b[0m\u001b[1;33m\u001b[0m\u001b[0m\n\u001b[0m\u001b[0;32m      7\u001b[0m \u001b[0mprint\u001b[0m\u001b[1;33m(\u001b[0m\u001b[0minsurance\u001b[0m\u001b[1;33m.\u001b[0m\u001b[0mcolumns\u001b[0m\u001b[1;33m)\u001b[0m\u001b[1;33m\u001b[0m\u001b[1;33m\u001b[0m\u001b[0m\n",
      "\u001b[1;32m~\\anaconda3\\lib\\site-packages\\pandas\\core\\frame.py\u001b[0m in \u001b[0;36mdrop\u001b[1;34m(self, labels, axis, index, columns, level, inplace, errors)\u001b[0m\n\u001b[0;32m   4306\u001b[0m                 \u001b[0mweight\u001b[0m  \u001b[1;36m1.0\u001b[0m     \u001b[1;36m0.8\u001b[0m\u001b[1;33m\u001b[0m\u001b[1;33m\u001b[0m\u001b[0m\n\u001b[0;32m   4307\u001b[0m         \"\"\"\n\u001b[1;32m-> 4308\u001b[1;33m         return super().drop(\n\u001b[0m\u001b[0;32m   4309\u001b[0m             \u001b[0mlabels\u001b[0m\u001b[1;33m=\u001b[0m\u001b[0mlabels\u001b[0m\u001b[1;33m,\u001b[0m\u001b[1;33m\u001b[0m\u001b[1;33m\u001b[0m\u001b[0m\n\u001b[0;32m   4310\u001b[0m             \u001b[0maxis\u001b[0m\u001b[1;33m=\u001b[0m\u001b[0maxis\u001b[0m\u001b[1;33m,\u001b[0m\u001b[1;33m\u001b[0m\u001b[1;33m\u001b[0m\u001b[0m\n",
      "\u001b[1;32m~\\anaconda3\\lib\\site-packages\\pandas\\core\\generic.py\u001b[0m in \u001b[0;36mdrop\u001b[1;34m(self, labels, axis, index, columns, level, inplace, errors)\u001b[0m\n\u001b[0;32m   4151\u001b[0m         \u001b[1;32mfor\u001b[0m \u001b[0maxis\u001b[0m\u001b[1;33m,\u001b[0m \u001b[0mlabels\u001b[0m \u001b[1;32min\u001b[0m \u001b[0maxes\u001b[0m\u001b[1;33m.\u001b[0m\u001b[0mitems\u001b[0m\u001b[1;33m(\u001b[0m\u001b[1;33m)\u001b[0m\u001b[1;33m:\u001b[0m\u001b[1;33m\u001b[0m\u001b[1;33m\u001b[0m\u001b[0m\n\u001b[0;32m   4152\u001b[0m             \u001b[1;32mif\u001b[0m \u001b[0mlabels\u001b[0m \u001b[1;32mis\u001b[0m \u001b[1;32mnot\u001b[0m \u001b[1;32mNone\u001b[0m\u001b[1;33m:\u001b[0m\u001b[1;33m\u001b[0m\u001b[1;33m\u001b[0m\u001b[0m\n\u001b[1;32m-> 4153\u001b[1;33m                 \u001b[0mobj\u001b[0m \u001b[1;33m=\u001b[0m \u001b[0mobj\u001b[0m\u001b[1;33m.\u001b[0m\u001b[0m_drop_axis\u001b[0m\u001b[1;33m(\u001b[0m\u001b[0mlabels\u001b[0m\u001b[1;33m,\u001b[0m \u001b[0maxis\u001b[0m\u001b[1;33m,\u001b[0m \u001b[0mlevel\u001b[0m\u001b[1;33m=\u001b[0m\u001b[0mlevel\u001b[0m\u001b[1;33m,\u001b[0m \u001b[0merrors\u001b[0m\u001b[1;33m=\u001b[0m\u001b[0merrors\u001b[0m\u001b[1;33m)\u001b[0m\u001b[1;33m\u001b[0m\u001b[1;33m\u001b[0m\u001b[0m\n\u001b[0m\u001b[0;32m   4154\u001b[0m \u001b[1;33m\u001b[0m\u001b[0m\n\u001b[0;32m   4155\u001b[0m         \u001b[1;32mif\u001b[0m \u001b[0minplace\u001b[0m\u001b[1;33m:\u001b[0m\u001b[1;33m\u001b[0m\u001b[1;33m\u001b[0m\u001b[0m\n",
      "\u001b[1;32m~\\anaconda3\\lib\\site-packages\\pandas\\core\\generic.py\u001b[0m in \u001b[0;36m_drop_axis\u001b[1;34m(self, labels, axis, level, errors)\u001b[0m\n\u001b[0;32m   4186\u001b[0m                 \u001b[0mnew_axis\u001b[0m \u001b[1;33m=\u001b[0m \u001b[0maxis\u001b[0m\u001b[1;33m.\u001b[0m\u001b[0mdrop\u001b[0m\u001b[1;33m(\u001b[0m\u001b[0mlabels\u001b[0m\u001b[1;33m,\u001b[0m \u001b[0mlevel\u001b[0m\u001b[1;33m=\u001b[0m\u001b[0mlevel\u001b[0m\u001b[1;33m,\u001b[0m \u001b[0merrors\u001b[0m\u001b[1;33m=\u001b[0m\u001b[0merrors\u001b[0m\u001b[1;33m)\u001b[0m\u001b[1;33m\u001b[0m\u001b[1;33m\u001b[0m\u001b[0m\n\u001b[0;32m   4187\u001b[0m             \u001b[1;32melse\u001b[0m\u001b[1;33m:\u001b[0m\u001b[1;33m\u001b[0m\u001b[1;33m\u001b[0m\u001b[0m\n\u001b[1;32m-> 4188\u001b[1;33m                 \u001b[0mnew_axis\u001b[0m \u001b[1;33m=\u001b[0m \u001b[0maxis\u001b[0m\u001b[1;33m.\u001b[0m\u001b[0mdrop\u001b[0m\u001b[1;33m(\u001b[0m\u001b[0mlabels\u001b[0m\u001b[1;33m,\u001b[0m \u001b[0merrors\u001b[0m\u001b[1;33m=\u001b[0m\u001b[0merrors\u001b[0m\u001b[1;33m)\u001b[0m\u001b[1;33m\u001b[0m\u001b[1;33m\u001b[0m\u001b[0m\n\u001b[0m\u001b[0;32m   4189\u001b[0m             \u001b[0mresult\u001b[0m \u001b[1;33m=\u001b[0m \u001b[0mself\u001b[0m\u001b[1;33m.\u001b[0m\u001b[0mreindex\u001b[0m\u001b[1;33m(\u001b[0m\u001b[1;33m**\u001b[0m\u001b[1;33m{\u001b[0m\u001b[0maxis_name\u001b[0m\u001b[1;33m:\u001b[0m \u001b[0mnew_axis\u001b[0m\u001b[1;33m}\u001b[0m\u001b[1;33m)\u001b[0m\u001b[1;33m\u001b[0m\u001b[1;33m\u001b[0m\u001b[0m\n\u001b[0;32m   4190\u001b[0m \u001b[1;33m\u001b[0m\u001b[0m\n",
      "\u001b[1;32m~\\anaconda3\\lib\\site-packages\\pandas\\core\\indexes\\base.py\u001b[0m in \u001b[0;36mdrop\u001b[1;34m(self, labels, errors)\u001b[0m\n\u001b[0;32m   5589\u001b[0m         \u001b[1;32mif\u001b[0m \u001b[0mmask\u001b[0m\u001b[1;33m.\u001b[0m\u001b[0many\u001b[0m\u001b[1;33m(\u001b[0m\u001b[1;33m)\u001b[0m\u001b[1;33m:\u001b[0m\u001b[1;33m\u001b[0m\u001b[1;33m\u001b[0m\u001b[0m\n\u001b[0;32m   5590\u001b[0m             \u001b[1;32mif\u001b[0m \u001b[0merrors\u001b[0m \u001b[1;33m!=\u001b[0m \u001b[1;34m\"ignore\"\u001b[0m\u001b[1;33m:\u001b[0m\u001b[1;33m\u001b[0m\u001b[1;33m\u001b[0m\u001b[0m\n\u001b[1;32m-> 5591\u001b[1;33m                 \u001b[1;32mraise\u001b[0m \u001b[0mKeyError\u001b[0m\u001b[1;33m(\u001b[0m\u001b[1;34mf\"{labels[mask]} not found in axis\"\u001b[0m\u001b[1;33m)\u001b[0m\u001b[1;33m\u001b[0m\u001b[1;33m\u001b[0m\u001b[0m\n\u001b[0m\u001b[0;32m   5592\u001b[0m             \u001b[0mindexer\u001b[0m \u001b[1;33m=\u001b[0m \u001b[0mindexer\u001b[0m\u001b[1;33m[\u001b[0m\u001b[1;33m~\u001b[0m\u001b[0mmask\u001b[0m\u001b[1;33m]\u001b[0m\u001b[1;33m\u001b[0m\u001b[1;33m\u001b[0m\u001b[0m\n\u001b[0;32m   5593\u001b[0m         \u001b[1;32mreturn\u001b[0m \u001b[0mself\u001b[0m\u001b[1;33m.\u001b[0m\u001b[0mdelete\u001b[0m\u001b[1;33m(\u001b[0m\u001b[0mindexer\u001b[0m\u001b[1;33m)\u001b[0m\u001b[1;33m\u001b[0m\u001b[1;33m\u001b[0m\u001b[0m\n",
      "\u001b[1;31mKeyError\u001b[0m: \"['children_family'] not found in axis\""
     ]
    }
   ],
   "source": [
    "# DROPPING THE CHILDREN_FAMILY COLUMN :\n",
    "\n",
    "print('---------------------------------------')\n",
    "print('           ADJUSTED COLUMN        ')\n",
    "print('---------------------------------------')\n",
    "insurance.drop('children_family', axis=1, inplace=True)\n",
    "print(insurance.columns)"
   ]
  },
  {
   "cell_type": "code",
   "execution_count": null,
   "id": "0cac6964",
   "metadata": {},
   "outputs": [],
   "source": [
    "# GETTING DATA TYPE OF COLUMN :\n",
    "print('---------------------------------------')\n",
    "print('           DATA TYPE OF COLUMN        ')\n",
    "print('---------------------------------------')\n",
    "print( insurance.dtypes)"
   ]
  },
  {
   "cell_type": "code",
   "execution_count": null,
   "id": "3d62b368",
   "metadata": {},
   "outputs": [],
   "source": [
    "Here age, bmi , charges is numerical type we do not need to manipulate it.\n",
    "But sex, smoker , region are of category type we need to make further changes so to proceed with model building."
   ]
  },
  {
   "cell_type": "code",
   "execution_count": 19,
   "id": "bd122933",
   "metadata": {},
   "outputs": [
    {
     "name": "stdout",
     "output_type": "stream",
     "text": [
      "--------------------------------------------\n",
      "           COUNT OF OBJECT DATA TYPE          \n",
      "--------------------------------------------\n",
      "-------------------------\n",
      " The columns is sex :\n",
      " -------------------------- \n",
      "male      676\n",
      "female    662\n",
      "Name: sex, dtype: int64\n",
      "-------------------------\n",
      " The columns is smoker :\n",
      " -------------------------- \n",
      "no     1064\n",
      "yes     274\n",
      "Name: smoker, dtype: int64\n",
      "-------------------------\n",
      " The columns is region :\n",
      " -------------------------- \n",
      "southeast    364\n",
      "northwest    325\n",
      "southwest    325\n",
      "northeast    324\n",
      "Name: region, dtype: int64\n"
     ]
    }
   ],
   "source": [
    "# GETTING THE COUNT OF OBJECT DATA TYPE COLUMN :\n",
    "\n",
    "print('--------------------------------------------')\n",
    "print('           COUNT OF OBJECT DATA TYPE          ')\n",
    "print('--------------------------------------------')\n",
    "for col in ['sex', 'smoker', 'region']:\n",
    "    print( \"-------------------------\\n The columns is \"+ col,':' + \"\\n -------------------------- \")\n",
    "    print(insurance[col].value_counts())\n",
    "    "
   ]
  },
  {
   "cell_type": "markdown",
   "id": "15268362",
   "metadata": {},
   "source": [
    "# ENCODING THE DATA "
   ]
  },
  {
   "cell_type": "code",
   "execution_count": 20,
   "id": "b17750db",
   "metadata": {},
   "outputs": [
    {
     "ename": "SyntaxError",
     "evalue": "invalid syntax (<ipython-input-20-9a2b4014c02f>, line 1)",
     "output_type": "error",
     "traceback": [
      "\u001b[1;36m  File \u001b[1;32m\"<ipython-input-20-9a2b4014c02f>\"\u001b[1;36m, line \u001b[1;32m1\u001b[0m\n\u001b[1;33m    Enoding the data as :\u001b[0m\n\u001b[1;37m            ^\u001b[0m\n\u001b[1;31mSyntaxError\u001b[0m\u001b[1;31m:\u001b[0m invalid syntax\n"
     ]
    }
   ],
   "source": [
    "Enoding the data as :\n",
    "    Sex       = Female    : 0        Male      : 1\n",
    "    Smoker    = No        : 0        Yes       : 1\n",
    "    Region    = NorthEast : 0        NorthWest : 1        SouthEast : 2        SouthWest : 4"
   ]
  },
  {
   "cell_type": "code",
   "execution_count": 21,
   "id": "e8c854b7",
   "metadata": {},
   "outputs": [],
   "source": [
    "# Importing Libraries for PROCESSING & ENCODING :\n",
    "\n",
    "from sklearn import preprocessing\n",
    "from sklearn.preprocessing import LabelEncoder"
   ]
  },
  {
   "cell_type": "code",
   "execution_count": 22,
   "id": "4b8b6199",
   "metadata": {},
   "outputs": [
    {
     "name": "stdout",
     "output_type": "stream",
     "text": [
      "Encoding Completed for Column :  sex\n",
      "Encoding Completed for Column :  smoker\n",
      "Encoding Completed for Column :  region\n"
     ]
    }
   ],
   "source": [
    "# Encoding the object column (SEX, SMOKER, REGION) : \n",
    "\n",
    "for col in ['sex', 'smoker', 'region']:\n",
    "    if (insurance[col].dtype == 'object'):\n",
    "        le = preprocessing.LabelEncoder()\n",
    "        le = le.fit(insurance[col])\n",
    "        insurance[col] = le.transform(insurance[col])\n",
    "        print('Encoding Completed for Column : ',col)"
   ]
  },
  {
   "cell_type": "code",
   "execution_count": 23,
   "id": "5531edf6",
   "metadata": {},
   "outputs": [
    {
     "data": {
      "text/html": [
       "<div>\n",
       "<style scoped>\n",
       "    .dataframe tbody tr th:only-of-type {\n",
       "        vertical-align: middle;\n",
       "    }\n",
       "\n",
       "    .dataframe tbody tr th {\n",
       "        vertical-align: top;\n",
       "    }\n",
       "\n",
       "    .dataframe thead th {\n",
       "        text-align: right;\n",
       "    }\n",
       "</style>\n",
       "<table border=\"1\" class=\"dataframe\">\n",
       "  <thead>\n",
       "    <tr style=\"text-align: right;\">\n",
       "      <th></th>\n",
       "      <th>age</th>\n",
       "      <th>sex</th>\n",
       "      <th>bmi</th>\n",
       "      <th>children</th>\n",
       "      <th>smoker</th>\n",
       "      <th>region</th>\n",
       "      <th>charges</th>\n",
       "    </tr>\n",
       "  </thead>\n",
       "  <tbody>\n",
       "    <tr>\n",
       "      <th>1328</th>\n",
       "      <td>23</td>\n",
       "      <td>0</td>\n",
       "      <td>24.225</td>\n",
       "      <td>2</td>\n",
       "      <td>0</td>\n",
       "      <td>0</td>\n",
       "      <td>22395.74424</td>\n",
       "    </tr>\n",
       "    <tr>\n",
       "      <th>1329</th>\n",
       "      <td>52</td>\n",
       "      <td>1</td>\n",
       "      <td>38.600</td>\n",
       "      <td>2</td>\n",
       "      <td>0</td>\n",
       "      <td>3</td>\n",
       "      <td>10325.20600</td>\n",
       "    </tr>\n",
       "    <tr>\n",
       "      <th>1330</th>\n",
       "      <td>57</td>\n",
       "      <td>0</td>\n",
       "      <td>25.740</td>\n",
       "      <td>2</td>\n",
       "      <td>0</td>\n",
       "      <td>2</td>\n",
       "      <td>12629.16560</td>\n",
       "    </tr>\n",
       "    <tr>\n",
       "      <th>1331</th>\n",
       "      <td>23</td>\n",
       "      <td>0</td>\n",
       "      <td>33.400</td>\n",
       "      <td>0</td>\n",
       "      <td>0</td>\n",
       "      <td>3</td>\n",
       "      <td>10795.93733</td>\n",
       "    </tr>\n",
       "    <tr>\n",
       "      <th>1332</th>\n",
       "      <td>52</td>\n",
       "      <td>0</td>\n",
       "      <td>44.700</td>\n",
       "      <td>3</td>\n",
       "      <td>0</td>\n",
       "      <td>3</td>\n",
       "      <td>11411.68500</td>\n",
       "    </tr>\n",
       "    <tr>\n",
       "      <th>1333</th>\n",
       "      <td>50</td>\n",
       "      <td>1</td>\n",
       "      <td>30.970</td>\n",
       "      <td>3</td>\n",
       "      <td>0</td>\n",
       "      <td>1</td>\n",
       "      <td>10600.54830</td>\n",
       "    </tr>\n",
       "    <tr>\n",
       "      <th>1334</th>\n",
       "      <td>18</td>\n",
       "      <td>0</td>\n",
       "      <td>31.920</td>\n",
       "      <td>0</td>\n",
       "      <td>0</td>\n",
       "      <td>0</td>\n",
       "      <td>2205.98080</td>\n",
       "    </tr>\n",
       "    <tr>\n",
       "      <th>1335</th>\n",
       "      <td>18</td>\n",
       "      <td>0</td>\n",
       "      <td>36.850</td>\n",
       "      <td>0</td>\n",
       "      <td>0</td>\n",
       "      <td>2</td>\n",
       "      <td>1629.83350</td>\n",
       "    </tr>\n",
       "    <tr>\n",
       "      <th>1336</th>\n",
       "      <td>21</td>\n",
       "      <td>0</td>\n",
       "      <td>25.800</td>\n",
       "      <td>0</td>\n",
       "      <td>0</td>\n",
       "      <td>3</td>\n",
       "      <td>2007.94500</td>\n",
       "    </tr>\n",
       "    <tr>\n",
       "      <th>1337</th>\n",
       "      <td>61</td>\n",
       "      <td>0</td>\n",
       "      <td>29.070</td>\n",
       "      <td>0</td>\n",
       "      <td>1</td>\n",
       "      <td>1</td>\n",
       "      <td>29141.36030</td>\n",
       "    </tr>\n",
       "  </tbody>\n",
       "</table>\n",
       "</div>"
      ],
      "text/plain": [
       "      age  sex     bmi  children  smoker  region      charges\n",
       "1328   23    0  24.225         2       0       0  22395.74424\n",
       "1329   52    1  38.600         2       0       3  10325.20600\n",
       "1330   57    0  25.740         2       0       2  12629.16560\n",
       "1331   23    0  33.400         0       0       3  10795.93733\n",
       "1332   52    0  44.700         3       0       3  11411.68500\n",
       "1333   50    1  30.970         3       0       1  10600.54830\n",
       "1334   18    0  31.920         0       0       0   2205.98080\n",
       "1335   18    0  36.850         0       0       2   1629.83350\n",
       "1336   21    0  25.800         0       0       3   2007.94500\n",
       "1337   61    0  29.070         0       1       1  29141.36030"
      ]
     },
     "execution_count": 23,
     "metadata": {},
     "output_type": "execute_result"
    }
   ],
   "source": [
    "# Printing tail value of the encoded data :\n",
    "\n",
    "insurance.tail(10)"
   ]
  },
  {
   "cell_type": "code",
   "execution_count": 24,
   "id": "fe608529",
   "metadata": {},
   "outputs": [],
   "source": [
    "# Saving the Encoded data in csv format :\n",
    "\n",
    "insurance.to_csv('insurance_encode.csv',index = False)"
   ]
  },
  {
   "cell_type": "code",
   "execution_count": 25,
   "id": "228ce9ee",
   "metadata": {},
   "outputs": [
    {
     "data": {
      "image/png": "[encoded data removed]",
      "text/plain": [
       "<Figure size 576x576 with 2 Axes>"
      ]
     },
     "metadata": {
      "needs_background": "light"
     },
     "output_type": "display_data"
    }
   ],
   "source": [
    "# Getting the Co-relation by using heat map of all columns :\n",
    "\n",
    "plt.figure(figsize=(8,8))\n",
    "\n",
    "#setting the parameter values\n",
    "cmap=\"tab20\"\n",
    "center=0\n",
    "\n",
    "#setting the parameter values\n",
    "annot= True\n",
    "\n",
    "#plotting the heatmap\n",
    "hm=sns.heatmap(insurance.corr(),cmap=cmap,annot=annot)\n",
    "\n",
    "#displaying the plotted heatmap\n",
    "plt.show()"
   ]
  },
  {
   "cell_type": "markdown",
   "id": "0b513368",
   "metadata": {},
   "source": [
    "# MODEL PROCESSING"
   ]
  },
  {
   "cell_type": "code",
   "execution_count": 26,
   "id": "68167f56",
   "metadata": {},
   "outputs": [],
   "source": [
    "# Splitting the Features and Target Variables :\n",
    "\n",
    "x = insurance.drop(columns='charges', axis=1)\n",
    "y = insurance['charges']"
   ]
  },
  {
   "cell_type": "code",
   "execution_count": 27,
   "id": "f715f27e",
   "metadata": {},
   "outputs": [
    {
     "name": "stdout",
     "output_type": "stream",
     "text": [
      "      age  sex     bmi  children  smoker  region\n",
      "0      19    0  27.900         0       1       3\n",
      "1      18    1  33.770         1       0       2\n",
      "2      28    1  33.000         3       0       2\n",
      "3      33    1  22.705         0       0       1\n",
      "4      32    1  28.880         0       0       1\n",
      "...   ...  ...     ...       ...     ...     ...\n",
      "1333   50    1  30.970         3       0       1\n",
      "1334   18    0  31.920         0       0       0\n",
      "1335   18    0  36.850         0       0       2\n",
      "1336   21    0  25.800         0       0       3\n",
      "1337   61    0  29.070         0       1       1\n",
      "\n",
      "[1338 rows x 6 columns]\n",
      "0       16884.92400\n",
      "1        1725.55230\n",
      "2        4449.46200\n",
      "3       21984.47061\n",
      "4        3866.85520\n",
      "           ...     \n",
      "1333    10600.54830\n",
      "1334     2205.98080\n",
      "1335     1629.83350\n",
      "1336     2007.94500\n",
      "1337    29141.36030\n",
      "Name: charges, Length: 1338, dtype: float64\n"
     ]
    },
    {
     "data": {
      "text/plain": [
       "(None, None)"
      ]
     },
     "execution_count": 27,
     "metadata": {},
     "output_type": "execute_result"
    }
   ],
   "source": [
    "print(x),print(y)"
   ]
  },
  {
   "cell_type": "code",
   "execution_count": 28,
   "id": "220b9f81",
   "metadata": {},
   "outputs": [],
   "source": [
    "# Splitting the data into Training data & Testing Data :\n",
    "\n",
    "from sklearn.model_selection import train_test_split\n",
    "x_train, x_test, y_train, y_test = train_test_split(x, y, test_size=0.2, random_state=2)"
   ]
  },
  {
   "cell_type": "code",
   "execution_count": 29,
   "id": "458cc02e",
   "metadata": {},
   "outputs": [
    {
     "name": "stdout",
     "output_type": "stream",
     "text": [
      "(1338, 6) (1070, 6) (268, 6)\n"
     ]
    }
   ],
   "source": [
    "# Printing Shape of X :\n",
    "\n",
    "print(x.shape, x_train.shape, x_test.shape)"
   ]
  },
  {
   "cell_type": "markdown",
   "id": "cf1a0b7e",
   "metadata": {},
   "source": [
    "# LINEAR REGRESSION MODEL "
   ]
  },
  {
   "cell_type": "code",
   "execution_count": 30,
   "id": "081c809e",
   "metadata": {},
   "outputs": [
    {
     "ename": "SyntaxError",
     "evalue": "invalid syntax (<ipython-input-30-cddf8eac02a0>, line 1)",
     "output_type": "error",
     "traceback": [
      "\u001b[1;36m  File \u001b[1;32m\"<ipython-input-30-cddf8eac02a0>\"\u001b[1;36m, line \u001b[1;32m1\u001b[0m\n\u001b[1;33m    MODEL TRAINING\u001b[0m\n\u001b[1;37m          ^\u001b[0m\n\u001b[1;31mSyntaxError\u001b[0m\u001b[1;31m:\u001b[0m invalid syntax\n"
     ]
    }
   ],
   "source": [
    "MODEL TRAINING"
   ]
  },
  {
   "cell_type": "code",
   "execution_count": 31,
   "id": "c740d6bb",
   "metadata": {},
   "outputs": [],
   "source": [
    "from sklearn.linear_model import LinearRegression\n",
    "from sklearn import metrics"
   ]
  },
  {
   "cell_type": "code",
   "execution_count": 32,
   "id": "88a7ba84",
   "metadata": {},
   "outputs": [],
   "source": [
    "# loading the Linear Regression model\n",
    "reg = LinearRegression()"
   ]
  },
  {
   "cell_type": "code",
   "execution_count": 33,
   "id": "a52e29ee",
   "metadata": {},
   "outputs": [
    {
     "data": {
      "text/plain": [
       "LinearRegression()"
      ]
     },
     "execution_count": 33,
     "metadata": {},
     "output_type": "execute_result"
    }
   ],
   "source": [
    "reg.fit(x_train, y_train)"
   ]
  },
  {
   "cell_type": "code",
   "execution_count": 34,
   "id": "56a081a8",
   "metadata": {},
   "outputs": [],
   "source": [
    "#MODEL EVALUATION\n",
    "\n",
    "# Prediction on Train data :\n",
    "\n",
    "train_data_prediction =reg.predict(x_train)"
   ]
  },
  {
   "cell_type": "code",
   "execution_count": 35,
   "id": "33db1632",
   "metadata": {},
   "outputs": [
    {
     "name": "stdout",
     "output_type": "stream",
     "text": [
      "R squared value of Train Data :  0.7519923667088932\n"
     ]
    }
   ],
   "source": [
    "# R squared value of Train Data :\n",
    "\n",
    "r2_train = metrics.r2_score(y_train, train_data_prediction)\n",
    "print('R squared value of Train Data : ', r2_train)"
   ]
  },
  {
   "cell_type": "code",
   "execution_count": 36,
   "id": "b2edf658",
   "metadata": {},
   "outputs": [],
   "source": [
    "# Prediction on Test data :\n",
    "\n",
    "test_data_prediction =reg.predict(x_test)"
   ]
  },
  {
   "cell_type": "code",
   "execution_count": 37,
   "id": "c1a8f16b",
   "metadata": {},
   "outputs": [
    {
     "name": "stdout",
     "output_type": "stream",
     "text": [
      "R squared value of Test Data:  0.7445422986536502\n"
     ]
    }
   ],
   "source": [
    "# R squared value of Test Data :\n",
    "\n",
    "r2_test = metrics.r2_score(y_test, test_data_prediction)\n",
    "print('R squared value of Test Data: ', r2_test)"
   ]
  },
  {
   "cell_type": "code",
   "execution_count": 38,
   "id": "940862cf",
   "metadata": {},
   "outputs": [
    {
     "data": {
      "text/plain": [
       "array([21664.26093711])"
      ]
     },
     "execution_count": 38,
     "metadata": {},
     "output_type": "execute_result"
    }
   ],
   "source": [
    "#PREDICTIVE MODELLING SYSTEM\n",
    "\n",
    "# Inputting the values :\n",
    "input_data= (18, 1, 10.000, 4,1,2)    \n",
    "\n",
    "# Coverting into data to numpy array so as to avoid reshape error :\n",
    "input_data_as_numpy_array = np.asarray(input_data)\n",
    "\n",
    "# Reshapping the array :\n",
    "input_data_reshaped = input_data_as_numpy_array.reshape(1,-1)\n",
    "\n",
    "# Interpreting the Predicted Result :\n",
    "result = reg.predict(input_data_reshaped)\n",
    "result"
   ]
  },
  {
   "cell_type": "code",
   "execution_count": 39,
   "id": "47338426",
   "metadata": {},
   "outputs": [
    {
     "name": "stdout",
     "output_type": "stream",
     "text": [
      "74.45422986536502 %\n"
     ]
    }
   ],
   "source": [
    "# Checking the Accuracy :\n",
    "\n",
    "accuracy = reg.score (x_test, y_test)\n",
    "print(accuracy * 100, '%')  "
   ]
  },
  {
   "cell_type": "markdown",
   "id": "89c08fe0",
   "metadata": {},
   "source": [
    "# RANDOM FOREST REGRESSION "
   ]
  },
  {
   "cell_type": "code",
   "execution_count": 40,
   "id": "4acb955d",
   "metadata": {},
   "outputs": [
    {
     "name": "stdout",
     "output_type": "stream",
     "text": [
      "      age  sex     bmi  children  smoker  region\n",
      "0      19    0  27.900         0       1       3\n",
      "1      18    1  33.770         1       0       2\n",
      "2      28    1  33.000         3       0       2\n",
      "3      33    1  22.705         0       0       1\n",
      "4      32    1  28.880         0       0       1\n",
      "...   ...  ...     ...       ...     ...     ...\n",
      "1333   50    1  30.970         3       0       1\n",
      "1334   18    0  31.920         0       0       0\n",
      "1335   18    0  36.850         0       0       2\n",
      "1336   21    0  25.800         0       0       3\n",
      "1337   61    0  29.070         0       1       1\n",
      "\n",
      "[1338 rows x 6 columns]\n"
     ]
    }
   ],
   "source": [
    "# Knowing the X and y values :\n",
    "\n",
    "print(x)"
   ]
  },
  {
   "cell_type": "code",
   "execution_count": 41,
   "id": "0c33fb93",
   "metadata": {},
   "outputs": [
    {
     "name": "stdout",
     "output_type": "stream",
     "text": [
      "0       16884.92400\n",
      "1        1725.55230\n",
      "2        4449.46200\n",
      "3       21984.47061\n",
      "4        3866.85520\n",
      "           ...     \n",
      "1333    10600.54830\n",
      "1334     2205.98080\n",
      "1335     1629.83350\n",
      "1336     2007.94500\n",
      "1337    29141.36030\n",
      "Name: charges, Length: 1338, dtype: float64\n"
     ]
    }
   ],
   "source": [
    "print(y)"
   ]
  },
  {
   "cell_type": "code",
   "execution_count": 42,
   "id": "e815cf26",
   "metadata": {},
   "outputs": [],
   "source": [
    "# MODEL TRAINING\n",
    "\n",
    "from sklearn.ensemble import RandomForestRegressor\n",
    "from sklearn import metrics"
   ]
  },
  {
   "cell_type": "code",
   "execution_count": 43,
   "id": "845ccbba",
   "metadata": {},
   "outputs": [],
   "source": [
    "# loading the Random Forest Regression model :\n",
    "\n",
    "RFreg=RandomForestRegressor(n_estimators= 10 , random_state= 0)    \n",
    "# n_estimators represents number of trees (before considering average)"
   ]
  },
  {
   "cell_type": "code",
   "execution_count": 44,
   "id": "19c6c8e0",
   "metadata": {},
   "outputs": [
    {
     "data": {
      "text/plain": [
       "RandomForestRegressor(n_estimators=10, random_state=0)"
      ]
     },
     "execution_count": 44,
     "metadata": {},
     "output_type": "execute_result"
    }
   ],
   "source": [
    "RFreg.fit(x_train,y_train)"
   ]
  },
  {
   "cell_type": "code",
   "execution_count": 45,
   "id": "e95e9abe",
   "metadata": {},
   "outputs": [],
   "source": [
    "# MODEL EVALUATION \n",
    "\n",
    "# Prediction on Train data :\n",
    "\n",
    "train_data_prediction =RFreg.predict(x_train)"
   ]
  },
  {
   "cell_type": "code",
   "execution_count": 46,
   "id": "816a576f",
   "metadata": {},
   "outputs": [],
   "source": [
    "# Prediction on Test data :\n",
    "\n",
    "test_data_prediction =RFreg.predict(x_test)"
   ]
  },
  {
   "cell_type": "code",
   "execution_count": 47,
   "id": "8b628e61",
   "metadata": {},
   "outputs": [
    {
     "name": "stdout",
     "output_type": "stream",
     "text": [
      "R squared value of Train Data:  0.9678666565741351\n"
     ]
    }
   ],
   "source": [
    "# R squared value of Train Data :\n",
    "\n",
    "r2_train = metrics.r2_score(y_train, train_data_prediction)\n",
    "print('R squared value of Train Data: ', r2_train)"
   ]
  },
  {
   "cell_type": "code",
   "execution_count": 48,
   "id": "975e9a59",
   "metadata": {},
   "outputs": [
    {
     "name": "stdout",
     "output_type": "stream",
     "text": [
      "R squared value of Test Data :  0.8260217536852199\n"
     ]
    }
   ],
   "source": [
    "# R squared value of Test Data :\n",
    "\n",
    "r2_test = metrics.r2_score(y_test, test_data_prediction)\n",
    "print('R squared value of Test Data : ', r2_test)"
   ]
  },
  {
   "cell_type": "code",
   "execution_count": 49,
   "id": "d55440f1",
   "metadata": {},
   "outputs": [
    {
     "ename": "IndentationError",
     "evalue": "unexpected indent (<ipython-input-49-f460afabee18>, line 2)",
     "output_type": "error",
     "traceback": [
      "\u001b[1;36m  File \u001b[1;32m\"<ipython-input-49-f460afabee18>\"\u001b[1;36m, line \u001b[1;32m2\u001b[0m\n\u001b[1;33m    Sex       = Female    : 0        Male      : 1\u001b[0m\n\u001b[1;37m    ^\u001b[0m\n\u001b[1;31mIndentationError\u001b[0m\u001b[1;31m:\u001b[0m unexpected indent\n"
     ]
    }
   ],
   "source": [
    "# PREDICTIVE MODELLING SYSTEM\n",
    " Sex       = Female    : 0        Male      : 1\n",
    "    Smoker    = No        : 0        Yes       : 1\n",
    "    Region    = NorthEast : 0        NorthWest : 1        SouthEast : 2        SouthWest : 4"
   ]
  },
  {
   "cell_type": "code",
   "execution_count": 50,
   "id": "6f0dbb41",
   "metadata": {},
   "outputs": [
    {
     "data": {
      "text/plain": [
       "array([1728.332275])"
      ]
     },
     "execution_count": 50,
     "metadata": {},
     "output_type": "execute_result"
    }
   ],
   "source": [
    "# Inputting the values :\n",
    "input_data=  (18   , 1 , 33.770, 1 ,  0 , 2)        # age, sex , bmi, children, smoker, region\n",
    "# Coverting into data to numpy array so as to avoid reshape error :\n",
    "input_data_as_numpy_array = np.asarray(input_data)\n",
    "\n",
    "# Reshapping the array :\n",
    "input_data_reshaped = input_data_as_numpy_array.reshape(1,-1)\n",
    "\n",
    "# Interpreting the Predicted Result :\n",
    "result = RFreg.predict(input_data_reshaped)\n",
    "result"
   ]
  },
  {
   "cell_type": "code",
   "execution_count": 51,
   "id": "164ca970",
   "metadata": {},
   "outputs": [
    {
     "name": "stdout",
     "output_type": "stream",
     "text": [
      "82.60217536852198 %\n"
     ]
    }
   ],
   "source": [
    "# Checking the Accuracy :\n",
    "\n",
    "accuracy = RFreg.score (x_test, y_test)\n",
    "print(accuracy * 100, '%')"
   ]
  },
  {
   "cell_type": "markdown",
   "id": "6847e393",
   "metadata": {},
   "source": [
    "# The Accuracy Score of Linear model is 74.45%."
   ]
  },
  {
   "cell_type": "markdown",
   "id": "ad20f8c4",
   "metadata": {},
   "source": [
    "# The Accuracy Score Random Forest Regression is 82.60%.\n"
   ]
  },
  {
   "cell_type": "markdown",
   "id": "6ef4cc74",
   "metadata": {},
   "source": [
    "# The Random Forest Regression interprets the best accuracy."
   ]
  },
  {
   "cell_type": "markdown",
   "id": "c1cabe11",
   "metadata": {},
   "source": [
    "# Therefore we will proceed with the Random Forest Regression for futher prediction process."
   ]
  },
  {
   "cell_type": "code",
   "execution_count": 52,
   "id": "522f06d2",
   "metadata": {},
   "outputs": [
    {
     "ename": "SyntaxError",
     "evalue": "invalid syntax (<ipython-input-52-df4171fe1bf2>, line 1)",
     "output_type": "error",
     "traceback": [
      "\u001b[1;36m  File \u001b[1;32m\"<ipython-input-52-df4171fe1bf2>\"\u001b[1;36m, line \u001b[1;32m1\u001b[0m\n\u001b[1;33m    PICKLE FILE\u001b[0m\n\u001b[1;37m           ^\u001b[0m\n\u001b[1;31mSyntaxError\u001b[0m\u001b[1;31m:\u001b[0m invalid syntax\n"
     ]
    }
   ],
   "source": [
    "#PICKLE FILE"
   ]
  },
  {
   "cell_type": "code",
   "execution_count": 53,
   "id": "74c1d6a0",
   "metadata": {},
   "outputs": [],
   "source": [
    "import pickle\n",
    "pickle.dump(RFreg,open('health_claim.pkl','wb'))"
   ]
  },
  {
   "cell_type": "code",
   "execution_count": null,
   "id": "a1afa5b7",
   "metadata": {},
   "outputs": [],
   "source": []
  },
  {
   "cell_type": "code",
   "execution_count": null,
   "id": "26aa3189",
   "metadata": {},
   "outputs": [],
   "source": []
  }
 ],
 "metadata": {
  "kernelspec": {
   "display_name": "Python 3",
   "language": "python",
   "name": "python3"
  },
  "language_info": {
   "codemirror_mode": {
    "name": "ipython",
    "version": 3
   },
   "file_extension": ".py",
   "mimetype": "text/x-python",
   "name": "python",
   "nbconvert_exporter": "python",
   "pygments_lexer": "ipython3",
   "version": "3.8.8"
  }
 },
 "nbformat": 4,
 "nbformat_minor": 5
}
